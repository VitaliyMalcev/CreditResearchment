{
 "cells": [
  {
   "cell_type": "markdown",
   "metadata": {},
   "source": [
    "## Исследование надёжности заёмщиков\n",
    "\n",
    "Кредитный отдел банка. Нужно разобраться, влияет ли семейное положение и количество детей клиента на факт погашения кредита в срок. Входные данные от банка — статистика о платёжеспособности клиентов.\n",
    "\n"
   ]
  },
  {
   "cell_type": "markdown",
   "metadata": {},
   "source": [
    "### Общая информация о данных "
   ]
  },
  {
   "cell_type": "code",
   "execution_count": 1,
   "metadata": {},
   "outputs": [
    {
     "name": "stdout",
     "output_type": "stream",
     "text": [
      "   children  days_employed  dob_years education  education_id  \\\n",
      "0         1   -8437.673028         42    высшее             0   \n",
      "1         1   -4024.803754         36   среднее             1   \n",
      "2         0   -5623.422610         33   Среднее             1   \n",
      "3         3   -4124.747207         32   среднее             1   \n",
      "4         0  340266.072047         53   среднее             1   \n",
      "\n",
      "      family_status  family_status_id gender income_type  debt   total_income  \\\n",
      "0   женат / замужем                 0      F   сотрудник     0  253875.639453   \n",
      "1   женат / замужем                 0      F   сотрудник     0  112080.014102   \n",
      "2   женат / замужем                 0      M   сотрудник     0  145885.952297   \n",
      "3   женат / замужем                 0      M   сотрудник     0  267628.550329   \n",
      "4  гражданский брак                 1      F   пенсионер     0  158616.077870   \n",
      "\n",
      "                      purpose  \n",
      "0               покупка жилья  \n",
      "1     приобретение автомобиля  \n",
      "2               покупка жилья  \n",
      "3  дополнительное образование  \n",
      "4             сыграть свадьбу  \n",
      "<class 'pandas.core.frame.DataFrame'>\n",
      "RangeIndex: 21525 entries, 0 to 21524\n",
      "Data columns (total 12 columns):\n",
      "children            21525 non-null int64\n",
      "days_employed       19351 non-null float64\n",
      "dob_years           21525 non-null int64\n",
      "education           21525 non-null object\n",
      "education_id        21525 non-null int64\n",
      "family_status       21525 non-null object\n",
      "family_status_id    21525 non-null int64\n",
      "gender              21525 non-null object\n",
      "income_type         21525 non-null object\n",
      "debt                21525 non-null int64\n",
      "total_income        19351 non-null float64\n",
      "purpose             21525 non-null object\n",
      "dtypes: float64(2), int64(5), object(5)\n",
      "memory usage: 2.0+ MB\n",
      "54\n"
     ]
    }
   ],
   "source": [
    "import pandas as pd\n",
    "df = pd.read_csv('/datasets/data.csv')\n",
    "print(df.head())\n",
    "df.info()\n",
    "print(df.duplicated().sum())"
   ]
  },
  {
   "cell_type": "markdown",
   "metadata": {},
   "source": [
    "### Вывод"
   ]
  },
  {
   "cell_type": "markdown",
   "metadata": {},
   "source": [
    "В таблице 21525 строк. Графа days_employed имеет пропущенные значения,а так же представлен в некорректром формате, еще есть минусовые значения. Значение education имеет дубли связанные с разным регистром ввода. Total_income имеет пропуске и так же стоит перевести в формат int. В таблице 54 дубликата\n"
   ]
  },
  {
   "cell_type": "markdown",
   "metadata": {},
   "source": [
    "### Предобработка данных"
   ]
  },
  {
   "cell_type": "markdown",
   "metadata": {},
   "source": [
    "### Обработка пропусков"
   ]
  },
  {
   "cell_type": "code",
   "execution_count": 2,
   "metadata": {},
   "outputs": [
    {
     "name": "stdout",
     "output_type": "stream",
     "text": [
      "    children  days_employed  dob_years education  education_id  \\\n",
      "12         0            NaN         65   среднее             1   \n",
      "26         0            NaN         41   среднее             1   \n",
      "29         0            NaN         63   среднее             1   \n",
      "41         0            NaN         50   среднее             1   \n",
      "55         0            NaN         54   среднее             1   \n",
      "\n",
      "            family_status  family_status_id gender  income_type  debt  \\\n",
      "12       гражданский брак                 1      M    пенсионер     0   \n",
      "26        женат / замужем                 0      M  госслужащий     0   \n",
      "29  Не женат / не замужем                 4      F    пенсионер     0   \n",
      "41        женат / замужем                 0      F  госслужащий     0   \n",
      "55       гражданский брак                 1      F    пенсионер     1   \n",
      "\n",
      "    total_income                           purpose  \n",
      "12           NaN                   сыграть свадьбу  \n",
      "26           NaN                       образование  \n",
      "29           NaN  строительство жилой недвижимости  \n",
      "41           NaN  сделка с подержанным автомобилем  \n",
      "55           NaN                   сыграть свадьбу  \n",
      "       children  days_employed  dob_years education  education_id  \\\n",
      "12            0            NaN         65   среднее             1   \n",
      "26            0            NaN         41   среднее             1   \n",
      "29            0            NaN         63   среднее             1   \n",
      "41            0            NaN         50   среднее             1   \n",
      "55            0            NaN         54   среднее             1   \n",
      "...         ...            ...        ...       ...           ...   \n",
      "21489         2            NaN         47   Среднее             1   \n",
      "21495         1            NaN         50   среднее             1   \n",
      "21497         0            NaN         48    ВЫСШЕЕ             0   \n",
      "21502         1            NaN         42   среднее             1   \n",
      "21510         2            NaN         28   среднее             1   \n",
      "\n",
      "               family_status  family_status_id gender  income_type  debt  \\\n",
      "12          гражданский брак                 1      M    пенсионер     0   \n",
      "26           женат / замужем                 0      M  госслужащий     0   \n",
      "29     Не женат / не замужем                 4      F    пенсионер     0   \n",
      "41           женат / замужем                 0      F  госслужащий     0   \n",
      "55          гражданский брак                 1      F    пенсионер     1   \n",
      "...                      ...               ...    ...          ...   ...   \n",
      "21489        женат / замужем                 0      M    компаньон     0   \n",
      "21495       гражданский брак                 1      F    сотрудник     0   \n",
      "21497        женат / замужем                 0      F    компаньон     0   \n",
      "21502        женат / замужем                 0      F    сотрудник     0   \n",
      "21510        женат / замужем                 0      F    сотрудник     0   \n",
      "\n",
      "       total_income                           purpose  \n",
      "12              NaN                   сыграть свадьбу  \n",
      "26              NaN                       образование  \n",
      "29              NaN  строительство жилой недвижимости  \n",
      "41              NaN  сделка с подержанным автомобилем  \n",
      "55              NaN                   сыграть свадьбу  \n",
      "...             ...                               ...  \n",
      "21489           NaN              сделка с автомобилем  \n",
      "21495           NaN                           свадьба  \n",
      "21497           NaN        строительство недвижимости  \n",
      "21502           NaN  строительство жилой недвижимости  \n",
      "21510           NaN           приобретение автомобиля  \n",
      "\n",
      "[2174 rows x 12 columns]\n",
      "True\n"
     ]
    }
   ],
   "source": [
    "# начнем со столбика days_employed\n",
    "# рассмотрим пропуски\n",
    "\n",
    "print(df[df['days_employed'].isnull()].head())\n",
    "# На вид вместе с пропусками в days_employed всегда следуют пропуски в total_income. Проверим это.\n",
    "print(df[df['days_employed'].isnull()&df['total_income'].isnull().shape])\n",
    "# Мы узнали что нули в 2174 строках.\n",
    "print(21525==19351+ 2174) # Результат True - значит это правило работает для всех пропусков таблицы.\n",
    "# для удобства сохраним пропуски в отдельную переменную\n",
    "#lost = df.loc[df['days_employed'].isnull()] \n",
    "# база без пропусков\n",
    "#df = df.loc[df['days_employed'].notnull()] \n",
    "#print(df.info())\n"
   ]
  },
  {
   "cell_type": "code",
   "execution_count": 3,
   "metadata": {},
   "outputs": [
    {
     "name": "stdout",
     "output_type": "stream",
     "text": [
      "                  total_income\n",
      "income_type                   \n",
      "безработный      131339.751676\n",
      "в декрете         53829.130729\n",
      "госслужащий      150447.935283\n",
      "компаньон        172357.950966\n",
      "пенсионер        118514.486412\n",
      "предприниматель  499163.144947\n",
      "сотрудник        142594.396847\n",
      "студент           98201.625314\n",
      "<class 'pandas.core.frame.DataFrame'>\n",
      "Index: 8 entries, безработный to студент\n",
      "Data columns (total 1 columns):\n",
      "total_income    8 non-null float64\n",
      "dtypes: float64(1)\n",
      "memory usage: 128.0+ bytes\n"
     ]
    }
   ],
   "source": [
    "# заменим пропуски на медианное значение по income_type\n",
    "#Сперва посомтрим медианное значение по типу дохода\n",
    "print(df[['income_type','total_income']].groupby('income_type').median())\n",
    "medincome = df[['income_type','total_income']].groupby('income_type').median()\n",
    "medincome.info()"
   ]
  },
  {
   "cell_type": "code",
   "execution_count": 4,
   "metadata": {},
   "outputs": [
    {
     "name": "stdout",
     "output_type": "stream",
     "text": [
      "{'безработный': 131339.751676, 'в декрете': 53829.130729, 'госслужащий': 150447.935283, 'компаньон': 172357.950966, 'пенсионер': 118514.486412, 'предприниматель': 499163.144947, 'сотрудник': 142594.396847, 'студент': 98201.625314}\n"
     ]
    }
   ],
   "source": [
    "#создадим словарь # долго пытался сделать его автоматически из этой таблицы^, но не смог. как это можно сделать?\n",
    "incomedict = {'безработный':131339.751676,\n",
    "'в декрете':53829.130729,\n",
    "'госслужащий':150447.935283,\n",
    "'компаньон':172357.950966,\n",
    "'пенсионер':118514.486412,\n",
    "'предприниматель':499163.144947,\n",
    "'сотрудник':142594.396847,\n",
    "'студент':98201.625314}\n",
    "print(incomedict)"
   ]
  },
  {
   "cell_type": "code",
   "execution_count": 5,
   "metadata": {},
   "outputs": [
    {
     "name": "stdout",
     "output_type": "stream",
     "text": [
      "<class 'pandas.core.frame.DataFrame'>\n",
      "RangeIndex: 21525 entries, 0 to 21524\n",
      "Data columns (total 12 columns):\n",
      "children            21525 non-null int64\n",
      "days_employed       19351 non-null float64\n",
      "dob_years           21525 non-null int64\n",
      "education           21525 non-null object\n",
      "education_id        21525 non-null int64\n",
      "family_status       21525 non-null object\n",
      "family_status_id    21525 non-null int64\n",
      "gender              21525 non-null object\n",
      "income_type         21525 non-null object\n",
      "debt                21525 non-null int64\n",
      "total_income        21525 non-null float64\n",
      "purpose             21525 non-null object\n",
      "dtypes: float64(2), int64(5), object(5)\n",
      "memory usage: 2.0+ MB\n",
      "None\n"
     ]
    }
   ],
   "source": [
    "# сделаем функцию и применим ее\n",
    "def nantomed(row):\n",
    "    total_income = row['total_income']\n",
    "    income_type = row['income_type']\n",
    "    if total_income == \"\" :\n",
    "        #print(income_type)\n",
    "        return incomedict.get(income_type)\n",
    "    if total_income != \"\":\n",
    "        #print(total_income)\n",
    "        return total_income\n",
    "        \n",
    "df['total_income'] = df['total_income'].fillna(value='') #заменим Nan на пропуски что бы с ними можно было работать функцией\n",
    "df['total_income'] = df.apply(nantomed, axis=1)   \n",
    "print(df.info())# сработало!  "
   ]
  },
  {
   "cell_type": "code",
   "execution_count": 6,
   "metadata": {},
   "outputs": [
    {
     "name": "stdout",
     "output_type": "stream",
     "text": [
      "<class 'pandas.core.frame.DataFrame'>\n",
      "RangeIndex: 21525 entries, 0 to 21524\n",
      "Data columns (total 12 columns):\n",
      "children            21525 non-null int64\n",
      "days_employed       21525 non-null float64\n",
      "dob_years           21525 non-null int64\n",
      "education           21525 non-null object\n",
      "education_id        21525 non-null int64\n",
      "family_status       21525 non-null object\n",
      "family_status_id    21525 non-null int64\n",
      "gender              21525 non-null object\n",
      "income_type         21525 non-null object\n",
      "debt                21525 non-null int64\n",
      "total_income        21525 non-null float64\n",
      "purpose             21525 non-null object\n",
      "dtypes: float64(2), int64(5), object(5)\n",
      "memory usage: 2.0+ MB\n",
      "None\n"
     ]
    }
   ],
   "source": [
    "#в days_employed просто заменим недостяющие значения на среднее по столбику\n",
    "\n",
    "df['days_employed'] = df['days_employed'].fillna(value=df['days_employed'].mean())\n",
    "print(df.info()) # все нормально"
   ]
  },
  {
   "cell_type": "markdown",
   "metadata": {},
   "source": [
    "### Вывод"
   ]
  },
  {
   "cell_type": "markdown",
   "metadata": {},
   "source": [
    "Мы убрали недостающие значения в столбах ежемесячного дохода и рабочих дней. Пропуски в размере дохода мы заменили на медианное значение по типу занятости клиента. А пропуски в количестве рабочих ней на медианную по рабочим дням, потмоу что этот показатель нам в данной работе все ровно не понадобится."
   ]
  },
  {
   "cell_type": "markdown",
   "metadata": {},
   "source": [
    "### Замена типа данных"
   ]
  },
  {
   "cell_type": "code",
   "execution_count": 7,
   "metadata": {},
   "outputs": [
    {
     "name": "stdout",
     "output_type": "stream",
     "text": [
      "<class 'pandas.core.frame.DataFrame'>\n",
      "RangeIndex: 21525 entries, 0 to 21524\n",
      "Data columns (total 12 columns):\n",
      "children            21525 non-null int64\n",
      "days_employed       21525 non-null int64\n",
      "dob_years           21525 non-null int64\n",
      "education           21525 non-null object\n",
      "education_id        21525 non-null int64\n",
      "family_status       21525 non-null object\n",
      "family_status_id    21525 non-null int64\n",
      "gender              21525 non-null object\n",
      "income_type         21525 non-null object\n",
      "debt                21525 non-null int64\n",
      "total_income        21525 non-null int64\n",
      "purpose             21525 non-null object\n",
      "dtypes: int64(7), object(5)\n",
      "memory usage: 2.0+ MB\n",
      "None\n"
     ]
    }
   ],
   "source": [
    "#переведем float в int в столбах total_income и days_employed\n",
    "df['total_income'] = df['total_income'].astype(int)\n",
    "df['days_employed'] = df['days_employed'].astype(int)\n",
    "print(df.info())"
   ]
  },
  {
   "cell_type": "code",
   "execution_count": 8,
   "metadata": {},
   "outputs": [
    {
     "name": "stdout",
     "output_type": "stream",
     "text": [
      "F      14236\n",
      "M       7288\n",
      "XNA        1\n",
      "Name: gender, dtype: int64\n"
     ]
    }
   ],
   "source": [
    "#Теперь надо перевести в булевое значение графу пол.\n",
    "print(df['gender'].value_counts()) \n",
    "# Мы видим одну некорректную запись с полом XNA\n",
    "df = df.loc[df['gender']!= \"XNA\"] # удалим ее\n",
    "def to_bool(col):\n",
    "    if col == \"M\":\n",
    "        return True\n",
    "    if col == \"F\":\n",
    "        return False\n",
    "\n",
    "df['gender'] = df['gender'].apply(to_bool) #теперь поле gender в булевом значении"
   ]
  },
  {
   "cell_type": "code",
   "execution_count": 9,
   "metadata": {},
   "outputs": [
    {
     "name": "stdout",
     "output_type": "stream",
     "text": [
      "                     education_id\n",
      "education                        \n",
      "высшее                          0\n",
      "начальное                       3\n",
      "неоконченное высшее             2\n",
      "среднее                         1\n",
      "ученая степень                  4\n"
     ]
    }
   ],
   "source": [
    "# теперь поправим education\n",
    "def tolow(col):\n",
    "    return col.lower()\n",
    "df['education'] = df['education'].apply(tolow)\n",
    "print(df[['education','education_id']].groupby('education').mean()) # проверим что все нормально заодно обратив внимание на education_id"
   ]
  },
  {
   "cell_type": "code",
   "execution_count": 10,
   "metadata": {},
   "outputs": [
    {
     "name": "stdout",
     "output_type": "stream",
     "text": [
      "                       family_status_id\n",
      "family_status                          \n",
      "Не женат / не замужем                 4\n",
      "в разводе                             3\n",
      "вдовец / вдова                        2\n",
      "гражданский брак                      1\n",
      "женат / замужем                       0\n"
     ]
    }
   ],
   "source": [
    "# посомтрим так же поле family_status.\n",
    "print(df[['family_status','family_status_id']].groupby('family_status').mean())\n",
    "# тут все хорошо, можно для красоты перевести в нижний регистр\n",
    "df['family_status'] = df['family_status'].apply(tolow)"
   ]
  },
  {
   "cell_type": "code",
   "execution_count": 11,
   "metadata": {},
   "outputs": [
    {
     "name": "stdout",
     "output_type": "stream",
     "text": [
      "сотрудник          11119\n",
      "компаньон           5084\n",
      "пенсионер           3856\n",
      "госслужащий         1459\n",
      "предприниматель        2\n",
      "безработный            2\n",
      "студент                1\n",
      "в декрете              1\n",
      "Name: income_type, dtype: int64\n",
      "сотрудник      11119\n",
      "компаньон       5084\n",
      "пенсионер       3856\n",
      "госслужащий     1459\n",
      "Name: income_type, dtype: int64\n"
     ]
    }
   ],
   "source": [
    "print(df['income_type'].value_counts()) \n",
    "# Можно удалить 6 строк исключений как лишние\n",
    "df = df.loc[(df['income_type']!= \"безработный\")&(df['income_type']!= \"студент\")&(df['income_type']!= \"предприниматель\")&(df['income_type']!= \"в декрете\")]\n",
    "print(df['income_type'].value_counts()) #так лучше"
   ]
  },
  {
   "cell_type": "code",
   "execution_count": 12,
   "metadata": {},
   "outputs": [
    {
     "name": "stdout",
     "output_type": "stream",
     "text": [
      " 0     14144\n",
      " 1      4817\n",
      " 2      2054\n",
      " 3       330\n",
      " 20       76\n",
      "-1        47\n",
      " 4        41\n",
      " 5         9\n",
      "Name: children, dtype: int64\n",
      "0    14144\n",
      "1     4864\n",
      "2     2054\n",
      "3      330\n",
      "4       41\n",
      "5        9\n",
      "Name: children, dtype: int64\n"
     ]
    }
   ],
   "source": [
    "print(df['children'].value_counts())\n",
    "#тут ошибки. удалим тех у кого 20 детей. А тех у кого -1 исправим на 1 (видимо это ошибка ввода)\n",
    "df = df.loc[df['children']!= 20]\n",
    "def minustoplus(col):\n",
    "    if col < 0:\n",
    "        return int(col*-1)\n",
    "    if col >0:\n",
    "        return int(col)\n",
    "    if col == 0:\n",
    "        return 0\n",
    "df['children'] = df['children'].apply(minustoplus)\n",
    "print(df['children'].value_counts()) # так хорошо"
   ]
  },
  {
   "cell_type": "code",
   "execution_count": 13,
   "metadata": {},
   "outputs": [],
   "source": [
    "# уберем отрицательные значения в числовых столбах. days_employed и total_income (считаем это ошибками ввода)\n",
    "df['total_income'] = df['total_income'].apply(minustoplus)\n",
    "df['days_employed'] = df['days_employed'].apply(minustoplus)\n",
    "# и purpose на всякий случай так же приведем к одному регистру\n",
    "df['purpose'] = df['purpose'].apply(tolow)"
   ]
  },
  {
   "cell_type": "markdown",
   "metadata": {},
   "source": [
    "### Вывод\n",
    "\n",
    "Мы привели столбики  дохода и дней занятости в целочисловое значение, пол в булевое, удалив ошибки. Привели к нижнему регистру графу образование, убрали ошибочные и лишние значения в типе занятости и исправили ошибки в количестве детей. Теперь табличка удобна и с ней можно работать!"
   ]
  },
  {
   "cell_type": "markdown",
   "metadata": {},
   "source": [
    "### Обработка дубликатов"
   ]
  },
  {
   "cell_type": "code",
   "execution_count": 14,
   "metadata": {
    "scrolled": true
   },
   "outputs": [
    {
     "name": "stdout",
     "output_type": "stream",
     "text": [
      "71\n"
     ]
    }
   ],
   "source": [
    "# найдем повторяющиеся значения\n",
    "print(df.duplicated().sum())\n",
    "# их 66 посмотрим на них\n",
    "#df2 = df = df['duplets']=df.duplicated()\n",
    "#print(df2[df2['duplets']== True])\n",
    "#сложо сказать разные это люди или нет. на всякий случай удалим их\n",
    "df = df.drop_duplicates(keep=False)\n",
    "# почему то у меня на этом моменте полностью зависает jupyter"
   ]
  },
  {
   "cell_type": "code",
   "execution_count": 15,
   "metadata": {},
   "outputs": [
    {
     "name": "stdout",
     "output_type": "stream",
     "text": [
      "0\n",
      "<class 'pandas.core.frame.DataFrame'>\n",
      "Int64Index: 21305 entries, 0 to 21524\n",
      "Data columns (total 12 columns):\n",
      "children            21305 non-null int64\n",
      "days_employed       21305 non-null int64\n",
      "dob_years           21305 non-null int64\n",
      "education           21305 non-null object\n",
      "education_id        21305 non-null int64\n",
      "family_status       21305 non-null object\n",
      "family_status_id    21305 non-null int64\n",
      "gender              21305 non-null bool\n",
      "income_type         21305 non-null object\n",
      "debt                21305 non-null int64\n",
      "total_income        21305 non-null int64\n",
      "purpose             21305 non-null object\n",
      "dtypes: bool(1), int64(7), object(4)\n",
      "memory usage: 2.0+ MB\n",
      "None\n"
     ]
    }
   ],
   "source": [
    "print(df.duplicated().sum())\n",
    "print(df.info())"
   ]
  },
  {
   "cell_type": "markdown",
   "metadata": {},
   "source": [
    "### Вывод"
   ]
  },
  {
   "cell_type": "markdown",
   "metadata": {},
   "source": [
    "Мы нашли повторяющиеся значения в таблице и удалили их."
   ]
  },
  {
   "cell_type": "markdown",
   "metadata": {},
   "source": [
    "### Лемматизация"
   ]
  },
  {
   "cell_type": "code",
   "execution_count": 16,
   "metadata": {},
   "outputs": [
    {
     "name": "stdout",
     "output_type": "stream",
     "text": [
      "['покупка', ' ', 'жилье', '\\n', 'приобретение', ' ', 'автомобиль', '\\n', 'покупка', ' ']\n"
     ]
    }
   ],
   "source": [
    "# столбик уже приведен к нижнему регистру. \n",
    "#сделаем столбик с лемами\n",
    "from pymystem3 import Mystem\n",
    "m = Mystem()\n",
    "def lematizecolum(col):\n",
    "    return m.lemmatize(col)\n",
    "df['lematized'] = df['purpose'].apply(lematizecolum)\n",
    "    \n",
    "#соберем лемы отдельно\n",
    "alllemas = []\n",
    "for i in df['lematized']:\n",
    "    for word in i:\n",
    "        alllemas.append(word)\n",
    "\n",
    "print(alllemas[:10]) # это список всех-всех лемов\n",
    "\n"
   ]
  },
  {
   "cell_type": "code",
   "execution_count": 17,
   "metadata": {},
   "outputs": [
    {
     "name": "stdout",
     "output_type": "stream",
     "text": [
      "Counter({' ': 33335, '\\n': 21305, 'недвижимость': 6311, 'покупка': 5860, 'жилье': 4432, 'автомобиль': 4280, 'образование': 3989, 'с': 2899, 'операция': 2588, 'свадьба': 2293, 'свой': 2221, 'на': 2201, 'строительство': 1867, 'высокий': 1367, 'получение': 1309, 'коммерческий': 1300, 'для': 1281, 'жилой': 1223, 'сделка': 934, 'заниматься': 900, 'дополнительный': 899, 'проведение': 756, 'сыграть': 753, 'сдача': 647, 'семья': 634, 'собственный': 628, 'со': 623, 'ремонт': 601, 'подержанный': 479, 'подержать': 471, 'приобретение': 460, 'профильный': 434})\n"
     ]
    }
   ],
   "source": [
    "# рассмотрим количества повторений\n",
    "from collections import Counter\n",
    "print(Counter(alllemas))"
   ]
  },
  {
   "cell_type": "code",
   "execution_count": 18,
   "metadata": {},
   "outputs": [
    {
     "name": "stdout",
     "output_type": "stream",
     "text": [
      "['операция', ' ', 'с', ' ', 'жилье', '\\n']\n",
      "['операция', ' ', 'с', ' ', 'коммерческий', ' ', 'недвижимость', '\\n']\n",
      "['операция', ' ', 'с', ' ', 'коммерческий', ' ', 'недвижимость', '\\n']\n",
      "['операция', ' ', 'со', ' ', 'свой', ' ', 'недвижимость', '\\n']\n",
      "['операция', ' ', 'с', ' ', 'недвижимость', '\\n']\n",
      "['операция', ' ', 'с', ' ', 'жилье', '\\n']\n",
      "['операция', ' ', 'с', ' ', 'коммерческий', ' ', 'недвижимость', '\\n']\n",
      "['операция', ' ', 'с', ' ', 'коммерческий', ' ', 'недвижимость', '\\n']\n",
      "['операция', ' ', 'с', ' ', 'коммерческий', ' ', 'недвижимость', '\\n']\n",
      "['операция', ' ', 'с', ' ', 'недвижимость', '\\n']\n",
      "['операция', ' ', 'со', ' ', 'свой', ' ', 'недвижимость', '\\n']\n",
      "['операция', ' ', 'с', ' ', 'жилье', '\\n']\n",
      "['операция', ' ', 'с', ' ', 'недвижимость', '\\n']\n",
      "['операция', ' ', 'со', ' ', 'свой', ' ', 'недвижимость', '\\n']\n",
      "['операция', ' ', 'с', ' ', 'коммерческий', ' ', 'недвижимость', '\\n']\n",
      "['операция', ' ', 'с', ' ', 'коммерческий', ' ', 'недвижимость', '\\n']\n",
      "['операция', ' ', 'со', ' ', 'свой', ' ', 'недвижимость', '\\n']\n",
      "['операция', ' ', 'со', ' ', 'свой', ' ', 'недвижимость', '\\n']\n",
      "['операция', ' ', 'с', ' ', 'недвижимость', '\\n']\n",
      "['операция', ' ', 'с', ' ', 'жилье', '\\n']\n"
     ]
    }
   ],
   "source": [
    "#Выделим важные в отдельный список словарик с ключами\n",
    "real_lems ={'недвижимость': 1 ,'жилье': 1,'автомобиль': 2,'образование': 3,'свадьба' :4}\n",
    "#запишем все в словарь с индексами. жилье и недвижимость у нас один ключ потому что это одно и то же. \n",
    "#Про операция нужно проверить.\n",
    "#мы видим что это операции с недвижимостью (а не лечение), поэтому не будем выделять слово операции в отдельную категорию\n",
    "count = 20 # это счетчикчто бы отобразить 20строк, а не все полотно\n",
    "for i in df['lematized']:\n",
    "    for word in i:\n",
    "        if (word == 'операция')&(count > 0):\n",
    "            count = count -1\n",
    "            print(i)         "
   ]
  },
  {
   "cell_type": "code",
   "execution_count": 19,
   "metadata": {
    "scrolled": true
   },
   "outputs": [
    {
     "name": "stdout",
     "output_type": "stream",
     "text": [
      "1    10743\n",
      "2     4280\n",
      "3     3989\n",
      "4     2293\n",
      "Name: lemma_index, dtype: int64\n"
     ]
    }
   ],
   "source": [
    "# добавим новый столбик с индексом леммы в таблицу\n",
    "def truelemma(col):\n",
    "    for word in col:\n",
    "        for lem in real_lems:\n",
    "            if word == lem:\n",
    "                return real_lems.get(word, 5) # 5 это будет индекс исключений которые не подходят не под одну категорию\n",
    "\n",
    "\n",
    "\n",
    "df['lemma_index'] = df['lematized'].apply(truelemma)\n",
    "print(df['lemma_index'].value_counts())\n",
    "# все работает. в 5 категорию даже никто не попал"
   ]
  },
  {
   "cell_type": "markdown",
   "metadata": {},
   "source": [
    "### Вывод"
   ]
  },
  {
   "cell_type": "markdown",
   "metadata": {},
   "source": [
    "Мы леммизировали цели получения кредита и выделили 4 категории целей на которые люди берут кредит: недвижимость, авто, образование и свадьба. Чаще всего люди берут деньги на покупку жилья, остальные три категории примерно одниаковы и в сумме ровны первой."
   ]
  },
  {
   "cell_type": "markdown",
   "metadata": {},
   "source": [
    "### Категоризация данных"
   ]
  },
  {
   "cell_type": "code",
   "execution_count": 20,
   "metadata": {},
   "outputs": [],
   "source": [
    "# лемализированные значения у нас уже хранятся в словаре real_lems\n",
    "# следует категоризировать уровень дохода. Разделим доход на процентильные группы по 25%\n",
    "\n",
    "import numpy as np\n",
    "cut_points = [np.percentile(df['total_income'], i) for i in [25, 50, 75]]\n",
    "df['income_group'] = 1\n",
    "for i in range(3):\n",
    "    df['income_group'] = df['income_group'] + (df['total_income'] < cut_points[i])\n"
   ]
  },
  {
   "cell_type": "code",
   "execution_count": 21,
   "metadata": {},
   "outputs": [
    {
     "name": "stdout",
     "output_type": "stream",
     "text": [
      "   total_income  income_group\n",
      "0        253875             1\n",
      "1        112080             3\n",
      "2        145885             2\n",
      "3        267628             1\n",
      "4        158616             2\n",
      "5        255763             1\n",
      "6        240525             1\n",
      "7        135823             3\n",
      "8         95856             4\n",
      "9        144425             2\n"
     ]
    }
   ],
   "source": [
    "print(df[['total_income','income_group']].head(10))\n",
    "#таким образом 1 - самые богатые, а 4 - самые бедные 25%"
   ]
  },
  {
   "cell_type": "code",
   "execution_count": 22,
   "metadata": {},
   "outputs": [
    {
     "name": "stdout",
     "output_type": "stream",
     "text": [
      "                     education_id\n",
      "education                        \n",
      "высшее                          0\n",
      "начальное                       3\n",
      "неоконченное высшее             2\n",
      "среднее                         1\n",
      "ученая степень                  4\n"
     ]
    }
   ],
   "source": [
    "# так же стоит составить словари чему соответствуют имеющиеся id в базе\n",
    "print(df[['education','education_id']].groupby('education').mean())\n",
    "#таким образом можно создать еще словарь по образвоанию\n",
    "education_id_meaning = {'высшее': 0, 'начальное':3,'неоконченное высшее':2, 'среднее':1, 'ученая степень':4}"
   ]
  },
  {
   "cell_type": "code",
   "execution_count": 23,
   "metadata": {},
   "outputs": [
    {
     "name": "stdout",
     "output_type": "stream",
     "text": [
      "                       family_status_id\n",
      "family_status                          \n",
      "в разводе                             3\n",
      "вдовец / вдова                        2\n",
      "гражданский брак                      1\n",
      "женат / замужем                       0\n",
      "не женат / не замужем                 4\n"
     ]
    }
   ],
   "source": [
    "# тоже самое для family status \n",
    "print(df[['family_status','family_status_id']].groupby('family_status').mean())\n",
    "#и завести еще один словарь\n",
    "family_id_meaning = {'в разводе': 3, 'вдовец / вдова':2,'гражданский брак':1, 'женат / замужем':0, 'не женат / не замужем':4}"
   ]
  },
  {
   "cell_type": "code",
   "execution_count": 24,
   "metadata": {},
   "outputs": [
    {
     "name": "stdout",
     "output_type": "stream",
     "text": [
      "             family_status_id\n",
      "income_type                  \n",
      "госслужащий          0.858224\n",
      "компаньон            1.036252\n",
      "пенсионер            0.990780\n",
      "сотрудник            0.958303\n",
      "<class 'pandas.core.frame.DataFrame'>\n",
      "Int64Index: 21305 entries, 0 to 21524\n",
      "Data columns (total 16 columns):\n",
      "children            21305 non-null int64\n",
      "days_employed       21305 non-null int64\n",
      "dob_years           21305 non-null int64\n",
      "education           21305 non-null object\n",
      "education_id        21305 non-null int64\n",
      "family_status       21305 non-null object\n",
      "family_status_id    21305 non-null int64\n",
      "gender              21305 non-null bool\n",
      "income_type         21305 non-null object\n",
      "debt                21305 non-null int64\n",
      "total_income        21305 non-null int64\n",
      "purpose             21305 non-null object\n",
      "lematized           21305 non-null object\n",
      "lemma_index         21305 non-null int64\n",
      "income_group        21305 non-null int64\n",
      "income_type_id      21305 non-null int64\n",
      "dtypes: bool(1), int64(10), object(5)\n",
      "memory usage: 2.6+ MB\n",
      "None\n"
     ]
    }
   ],
   "source": [
    "#еще можно завести индексы для income_type\n",
    "print(df[['income_type','family_status_id']].groupby('income_type').mean()) #family_Status_id  тут просто так\n",
    "# таким образом мы видим 4 вида дохода для которых можно создать словарь\n",
    "income_type_id_meaning = {'госслужащий':1, 'компаньон':2, 'пенсионер':3, 'сотрудник':4}\n",
    "\n",
    "#и добавить соответсвующий столбик в базу\n",
    "def income_type_id_meaning_add(col):\n",
    "    return income_type_id_meaning.get(col)\n",
    "\n",
    "df['income_type_id'] = df['income_type'].apply(income_type_id_meaning_add)\n",
    "\n",
    "print(df.info())\n"
   ]
  },
  {
   "cell_type": "markdown",
   "metadata": {},
   "source": [
    "### Вывод"
   ]
  },
  {
   "cell_type": "markdown",
   "metadata": {},
   "source": [
    "Мы категоризировали значение дохода, записали в словари все id, добавили id по типу дохода, разделили всех клиентов на 4 процентильные категории по размерам доходов. Записали в словари существующие столбики с id, теперь при желании дублирующие столбики с текстом можно удалить."
   ]
  },
  {
   "cell_type": "markdown",
   "metadata": {},
   "source": [
    "### Шаг 3. Ответьте на вопросы"
   ]
  },
  {
   "cell_type": "markdown",
   "metadata": {},
   "source": [
    "- Есть ли зависимость между наличием детей и возвратом кредита в срок?"
   ]
  },
  {
   "cell_type": "code",
   "execution_count": 25,
   "metadata": {},
   "outputs": [
    {
     "name": "stdout",
     "output_type": "stream",
     "text": [
      "              debt\n",
      "children          \n",
      "0         0.075750\n",
      "1         0.091660\n",
      "2         0.094238\n",
      "3         0.081818\n",
      "4         0.097561\n",
      "5         0.000000\n"
     ]
    }
   ],
   "source": [
    "print(df[['children','debt']].groupby('children').mean())"
   ]
  },
  {
   "cell_type": "markdown",
   "metadata": {},
   "source": [
    "### Вывод"
   ]
  },
  {
   "cell_type": "markdown",
   "metadata": {},
   "source": [
    "Те у кого 1 и 2 ребенка чаще всего пропускают платежи. Немного лучше ситуация, когда есть четыре ребенка.  Лучше всего у бездетных и у семей с тремя детьми. \n",
    "Ну, а многодетные семьи с 5 детьми никогда не просрочивают кредиты. Хотя таких семей в выборке не много, возможно этого не достаточно для вывода."
   ]
  },
  {
   "cell_type": "markdown",
   "metadata": {},
   "source": [
    "- Есть ли зависимость между семейным положением и возвратом кредита в срок?"
   ]
  },
  {
   "cell_type": "code",
   "execution_count": 26,
   "metadata": {},
   "outputs": [
    {
     "name": "stdout",
     "output_type": "stream",
     "text": [
      "                           debt\n",
      "family_status                  \n",
      "в разводе              0.070411\n",
      "вдовец / вдова         0.066038\n",
      "гражданский брак       0.093606\n",
      "женат / замужем        0.075604\n",
      "не женат / не замужем  0.097605\n"
     ]
    }
   ],
   "source": [
    "print(df[['family_status','debt']].groupby('family_status').mean())"
   ]
  },
  {
   "cell_type": "markdown",
   "metadata": {},
   "source": [
    "### Вывод"
   ]
  },
  {
   "cell_type": "markdown",
   "metadata": {},
   "source": [
    "Среди неженатых просрочки по кредиту встречаются наиболее часто. Немногим лучше ситуация в гражданском браке. \n",
    "Жеатые находятся где-то по середине, а самые благонадежные группы это вдовцы и те кто в разводе."
   ]
  },
  {
   "cell_type": "markdown",
   "metadata": {},
   "source": [
    "- Есть ли зависимость между уровнем дохода и возвратом кредита в срок?"
   ]
  },
  {
   "cell_type": "code",
   "execution_count": 27,
   "metadata": {},
   "outputs": [
    {
     "name": "stdout",
     "output_type": "stream",
     "text": [
      "                  debt\n",
      "income_group          \n",
      "1             0.071522\n",
      "2             0.086658\n",
      "3             0.087323\n",
      "4             0.079609\n"
     ]
    }
   ],
   "source": [
    "print(df[['income_group','debt']].groupby('income_group').mean())"
   ]
  },
  {
   "cell_type": "markdown",
   "metadata": {},
   "source": [
    "### Вывод"
   ]
  },
  {
   "cell_type": "markdown",
   "metadata": {},
   "source": [
    "Самые богатые реже всех просрочивают кредит. Наиболее рисковые группы это \"средние 50%\" между богатыми и бедными. Бедные 25% просрочивают кредит чаще чем богатые, но реже чем \"средний класс\"."
   ]
  },
  {
   "cell_type": "markdown",
   "metadata": {},
   "source": [
    "- Как разные цели кредита влияют на его возврат в срок?"
   ]
  },
  {
   "cell_type": "code",
   "execution_count": 28,
   "metadata": {},
   "outputs": [
    {
     "name": "stdout",
     "output_type": "stream",
     "text": [
      "                 debt\n",
      "lemma_index          \n",
      "1            0.072512\n",
      "2            0.093458\n",
      "3            0.092504\n",
      "4            0.079808\n"
     ]
    }
   ],
   "source": [
    "print(df[['lemma_index','debt']].groupby('lemma_index').mean())\n",
    "# real_lems ={'недвижимость': 1 ,'жилье': 1,'автомобиль': 2,'образование': 3,'свадьба' :4}\n"
   ]
  },
  {
   "cell_type": "code",
   "execution_count": 29,
   "metadata": {},
   "outputs": [
    {
     "name": "stdout",
     "output_type": "stream",
     "text": [
      "income_group         1         2         3         4\n",
      "lemma_index                                         \n",
      "1             0.067958  0.075981  0.078984  0.067771\n",
      "2             0.085264  0.101639  0.090042  0.095468\n",
      "3             0.078891  0.097015  0.107143  0.088093\n",
      "4             0.050611  0.091603  0.086022  0.090000\n"
     ]
    }
   ],
   "source": [
    "#сделаем сводную табличу\n",
    "print(df.pivot_table(index=['lemma_index'], columns='income_group', values='debt', aggfunc='mean'))\n",
    "# Лучше всего давать кредиты на свадьбу богачам! среди них просрочивает выплаты только каждый 20ый.\n",
    "#А вот кредиторы из среднего класса на автомобиль оказываются в два раза менее ответственными\n",
    "#print(df.pivot_table(index=['lemma_index','family_status'], columns=['income_group','children'], values='debt', aggfunc='mean'))\n",
    "#А вот такую ^^ закоментированную сводную таблицу можно 20х16 можно распечатать на стену сотруднику банка, что бы он сразу сверял благонадежность клиента:)"
   ]
  },
  {
   "cell_type": "markdown",
   "metadata": {},
   "source": [
    "### Вывод"
   ]
  },
  {
   "cell_type": "markdown",
   "metadata": {},
   "source": [
    "Те кто берут кредит на свадьбу и на покупку недвижимости более склонны возвращать кредит, чем те кто берут его на автомобиль или образование."
   ]
  },
  {
   "cell_type": "markdown",
   "metadata": {},
   "source": [
    "### Шаг 4. Общий вывод"
   ]
  },
  {
   "cell_type": "markdown",
   "metadata": {},
   "source": [
    "В ходе работой над проектом мы привели таблицу в рабочий вид, заменили недостоющие пропуски релевантными медианными значениями. Удалили небольшое число дубликатов. Для работы с числовыми значениями мы выделили процентные категории в доходах. Разобрав и леммизировав цели кредита удалось выделить 4 категории.\n",
    "Теперь при появлении клиента банк без труда может сразу узнать его статистическую благонадежность клиента сверившись со специальной табличкой. Например, мы выяснили что кредиты лучше всего давать бездетным или родителям трех детей, вдовцам или находящимся в разводе с низким или же очень высоким доходом и опасно давать кредиты на автомобиль клиентам со средним доходом."
   ]
  }
 ],
 "metadata": {
  "kernelspec": {
   "display_name": "Python 3",
   "language": "python",
   "name": "python3"
  },
  "language_info": {
   "codemirror_mode": {
    "name": "ipython",
    "version": 3
   },
   "file_extension": ".py",
   "mimetype": "text/x-python",
   "name": "python",
   "nbconvert_exporter": "python",
   "pygments_lexer": "ipython3",
   "version": "3.7.4"
  }
 },
 "nbformat": 4,
 "nbformat_minor": 2
}
